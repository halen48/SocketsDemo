{
  "nbformat": 4,
  "nbformat_minor": 0,
  "metadata": {
    "colab": {
      "name": "Cliente-Servidor.ipynb",
      "provenance": [],
      "collapsed_sections": [],
      "authorship_tag": "ABX9TyNetde+k/0+ZIMH0iQe79gI",
      "include_colab_link": true
    },
    "kernelspec": {
      "display_name": "Python 3",
      "name": "python3"
    },
    "language_info": {
      "name": "python"
    }
  },
  "cells": [
    {
      "cell_type": "markdown",
      "metadata": {
        "id": "view-in-github",
        "colab_type": "text"
      },
      "source": [
        "<a href=\"https://colab.research.google.com/github/halen48/SocketsDemo/blob/main/Cliente_Servidor.ipynb\" target=\"_parent\"><img src=\"https://colab.research.google.com/assets/colab-badge.svg\" alt=\"Open In Colab\"/></a>"
      ]
    },
    {
      "cell_type": "markdown",
      "metadata": {
        "id": "HoD-GmMml35n"
      },
      "source": [
        "#Dependências"
      ]
    },
    {
      "cell_type": "markdown",
      "metadata": {
        "id": "rU0-T9ROca-N"
      },
      "source": [
        "><a href=\"https://docs.python.org/dev/library/socket.html#socket.socket.listen\"> Documentação de Socket</a>"
      ]
    },
    {
      "cell_type": "code",
      "metadata": {
        "id": "XVWHi4HRl3Zx"
      },
      "source": [
        "import socket"
      ],
      "execution_count": null,
      "outputs": []
    },
    {
      "cell_type": "markdown",
      "metadata": {
        "id": "xh2vfkKQl8x-"
      },
      "source": [
        ">Para simular que os sistemas distribuidos, serão abertos dois processos na máquina local"
      ]
    },
    {
      "cell_type": "code",
      "metadata": {
        "id": "735kWtAymG-X"
      },
      "source": [
        "from multiprocessing import Process"
      ],
      "execution_count": null,
      "outputs": []
    },
    {
      "cell_type": "markdown",
      "metadata": {
        "id": "1ezT3lJTmJLe"
      },
      "source": [
        ">Cada conexão do lado do servidor é tratada com uma thread<br>\n",
        ">Existe uma alternativa monothread, utilizando a função <a href=\"https://docs.python.org/3/library/select.html\"><i>select</i></a>. <br>\n",
        ">Cada sistema operacional oferece uma API específica para o tratamento de sockets, sendo assim: \n",
        "* <a href=\"https://docs.microsoft.com/en-us/windows/win32/api/winsock2/nf-winsock2-select\">Windows</a>\n",
        "* <a href=\"https://man7.org/linux/man-pages/man2/select.2.html\">Linux</a>\n",
        "* <a href=\"https://developer.apple.com/library/archive/documentation/System/Conceptual/ManPages_iPhoneOS/man2/select.2.html\">MacOS</a>\n",
        "* <a href=\"https://www.freebsd.org/cgi/man.cgi?select\">FreeBSD</a>"
      ]
    },
    {
      "cell_type": "code",
      "metadata": {
        "id": "oByYpjqrmWaf"
      },
      "source": [
        "from threading import Thread, Lock"
      ],
      "execution_count": null,
      "outputs": []
    },
    {
      "cell_type": "markdown",
      "metadata": {
        "id": "88jawUXkzo9g"
      },
      "source": [
        ">Operações de socket são feitas em byte...<br>\n",
        ">Python é um pouco problemático com isso, então usaremos a biblioteca <a href=\"https://docs.python.org/3/library/pickle.html\">Pickle</a>"
      ]
    },
    {
      "cell_type": "code",
      "metadata": {
        "id": "OzwhgIZJzpfV"
      },
      "source": [
        "import pickle"
      ],
      "execution_count": null,
      "outputs": []
    },
    {
      "cell_type": "markdown",
      "metadata": {
        "id": "5YLNDJxMz-EF"
      },
      "source": [
        ">Para coisas interessantes..."
      ]
    },
    {
      "cell_type": "code",
      "metadata": {
        "id": "_QYa_7cfcYKl"
      },
      "source": [
        "import time\n",
        "import random"
      ],
      "execution_count": null,
      "outputs": []
    },
    {
      "cell_type": "markdown",
      "metadata": {
        "id": "JB7CfWtEySN8"
      },
      "source": [
        ">Vamos colocar uma velocidade de execução para as ações entre cliente-servidor."
      ]
    },
    {
      "cell_type": "code",
      "metadata": {
        "cellView": "form",
        "id": "gXuSFmFZyRSN"
      },
      "source": [
        "velocidade = 0.3 #@param {type:\"slider\", min:0.1, max:2, step:0.1}"
      ],
      "execution_count": null,
      "outputs": []
    },
    {
      "cell_type": "markdown",
      "metadata": {
        "id": "ssn1vZeZ0Qvu"
      },
      "source": [
        "#Servidor"
      ]
    },
    {
      "cell_type": "markdown",
      "metadata": {
        "id": "nU1nYVEh1BTm"
      },
      "source": [
        "##parse_cliente(self, conn, addr, id)"
      ]
    },
    {
      "cell_type": "markdown",
      "metadata": {
        "id": "CLeu1x5v1Gve"
      },
      "source": [
        ">Qual o motivo de você estar conectando um cliente com o servidor?<br>\n",
        ">Ou seja, como o cliente vai se comportar no lado do servidor"
      ]
    },
    {
      "cell_type": "code",
      "metadata": {
        "id": "yaVZg0Bi0tkn"
      },
      "source": [
        "def parse_cliente(self, conn, addr, id):\n",
        "  while True:\n",
        "    try:\n",
        "\n",
        "      data = conn.recv(tamanho_buffer)\n",
        "      print('\\033[3%dm'%(1+id%5)+'[Servidor] recebi', repr(data), 'do cliente <id: %d>'%id,'\\x1b[0m')\n",
        "      if not data:\n",
        "          break\n",
        "      \n",
        "      data = data.decode(self.codificacao)\n",
        "\n",
        "      valor = random.randint(0,50)\n",
        "\n",
        "      if(data == 'negativo'):\n",
        "        valor *= -1\n",
        "      \n",
        "      data = pickle.dumps( (id,valor) )\n",
        "      time.sleep(0.5/velocidade)\n",
        "      conn.sendall(data)\n",
        "    except Exception as e:\n",
        "      print(\"[Servidor]\", e)\n",
        "      continue"
      ],
      "execution_count": null,
      "outputs": []
    },
    {
      "cell_type": "markdown",
      "metadata": {
        "id": "0-5hXHL51h8H"
      },
      "source": [
        "##gerenciador_clientes(self)"
      ]
    },
    {
      "cell_type": "markdown",
      "metadata": {
        "id": "GsJKhw051a6m"
      },
      "source": [
        ">Rotina principal do servidor\n",
        ">Como os clientes vão se conectar ao servidor"
      ]
    },
    {
      "cell_type": "code",
      "metadata": {
        "id": "91RiAG1M0kcF"
      },
      "source": [
        "def gerenciador_clientes(self):\n",
        "  with socket.socket(socket.AF_INET, socket.SOCK_STREAM) as s:\n",
        "    while True:\n",
        "      try:\n",
        "        s.bind(self.endereco)\n",
        "        s.listen(self.max_clients)\n",
        "        time.sleep(0.5/velocidade)\n",
        "        break\n",
        "      except Exception as e:\n",
        "        print(e)\n",
        "        print(\"Tentando vincular conexão...\")\n",
        "        continue\n",
        "    \n",
        "    while True:\n",
        "      \n",
        "      self.checar_conexoes_clientes(self)  \n",
        "\n",
        "      conn, addr = s.accept()\n",
        "      print('[Servidor] Foi conectado um cliente em:', addr)\n",
        "      self.adicionar_cliente(self, conn, addr)\n",
        "    #s.close()"
      ],
      "execution_count": null,
      "outputs": []
    },
    {
      "cell_type": "markdown",
      "metadata": {
        "id": "JZNKYD6N1rue"
      },
      "source": [
        "##def adicionar_cliente(self, conn, addr)"
      ]
    },
    {
      "cell_type": "markdown",
      "metadata": {
        "id": "U6KbfeAV0Mk-"
      },
      "source": [
        ">Rotina para adicionar um cliente no servidor"
      ]
    },
    {
      "cell_type": "code",
      "metadata": {
        "id": "iUktVZ9r0NIl"
      },
      "source": [
        "def adicionar_cliente(self, conn, addr):\n",
        "\n",
        "  id = self.ultimo_id\n",
        "  self.ultimo_id += 1\n",
        "  thread = Thread(target = self.parse_cliente, args=(self, conn, addr, id))\n",
        "  self.lista_clientes[id] = ( (conn, thread) )\n",
        "  self.lista_clientes[id][1].start()\n",
        "\n",
        "  print(\"[Servidor] %d/%d clientes conectados\"%(len(self.lista_clientes), self.max_clients))\n",
        "\n",
        "  return id"
      ],
      "execution_count": null,
      "outputs": []
    },
    {
      "cell_type": "markdown",
      "metadata": {
        "id": "F5tfOXB046Zh"
      },
      "source": [
        "##checar_conexoes_clientes(self)"
      ]
    },
    {
      "cell_type": "markdown",
      "metadata": {
        "id": "7ff2khbh4_uQ"
      },
      "source": [
        ">Checa todas as conexões conectadas ao servidor:<br>\n",
        ">* Recusa novas conexões caso o servidor esteja cheio<br>\n",
        ">* Quando um cliente é desconectado (thread acabou sua tarefa), esta rotina está encarregada em chamar a rotina para deletar o registro do servidor"
      ]
    },
    {
      "cell_type": "code",
      "metadata": {
        "id": "_xQGYEHF0T5G"
      },
      "source": [
        "def checar_conexoes_clientes(self):\n",
        "    while True:\n",
        "      #limpa os clientes que estão desconectados\n",
        "      self.clientes_conectados = list(self.lista_clientes.keys())\n",
        "      for c_id in self.clientes_conectados:\n",
        "        if (not self.lista_clientes[c_id][1].is_alive()):\n",
        "          self.remover_cliente(self,c_id)\n",
        "      #Caso a lista tenha espaço para mais clientes, a rotina encerra por aqui\n",
        "      if (len(self.lista_clientes) < self.max_clients):\n",
        "          return\n",
        "      #Se tem mais clientes que o servidor pode suportar, aguarda...\n",
        "      print(\"[Servidor] Muitos clientes conectados. Aguardando...\")\n",
        "      print(\"[Servidor - Debug] IDs Conectados: \", self.clientes_conectados)\n",
        "      time.sleep(0.5/velocidade)"
      ],
      "execution_count": null,
      "outputs": []
    },
    {
      "cell_type": "markdown",
      "metadata": {
        "id": "kBLsNYZ75plI"
      },
      "source": [
        "##def remover_cliente(self,index)"
      ]
    },
    {
      "cell_type": "markdown",
      "metadata": {
        "id": "l2aopjSl5qDQ"
      },
      "source": [
        ">Remove o registro do servidor, passando um ID como referência"
      ]
    },
    {
      "cell_type": "code",
      "metadata": {
        "id": "8HSIJdTI0omt"
      },
      "source": [
        "def remover_cliente(self,index):\n",
        "  print('[Servidor] Desconectando o cliente[%d]: %s'%(index,self.lista_clientes[index][0]))\n",
        "  self.lista_clientes[index][0].close()\n",
        "  del self.lista_clientes[index]\n",
        "  print(\"[Servidor] %d/%d clientes conectados\"%(len(self.lista_clientes), self.max_clients))\n",
        "  "
      ],
      "execution_count": null,
      "outputs": []
    },
    {
      "cell_type": "markdown",
      "metadata": {
        "id": "Xhv9Oub95xEA"
      },
      "source": [
        "##class Server()"
      ]
    },
    {
      "cell_type": "code",
      "metadata": {
        "id": "mSlhdLGpcVmq"
      },
      "source": [
        "class Server():\n",
        "  def __init__(self, end, cod, max_clients, tamanho_buffer):\n",
        "    self.endereco = end\n",
        "    self.codificacao = cod\n",
        "    self.max_clients = max_clients\n",
        "    self.lista_clientes = {}\n",
        "    self.mutex = Lock()\n",
        "    self.tamanho_buffer = tamanho_buffer\n",
        "    self.ultimo_id = 0\n",
        "    self.clientes_conectados = []\n",
        "\n",
        "    #=========================================\n",
        "    #=============== Funções =================\n",
        "    #=========================================\n",
        "\n",
        "    self.adicionar_cliente = adicionar_cliente\n",
        "    self.checar_conexoes_clientes = checar_conexoes_clientes\n",
        "    self.gerenciador_clientes = gerenciador_clientes\n",
        "    self.remover_cliente = remover_cliente\n",
        "    self.parse_cliente = parse_cliente\n",
        "  \n",
        "  def run(self):\n",
        "    self.gerenciador_clientes(self)\n"
      ],
      "execution_count": null,
      "outputs": []
    },
    {
      "cell_type": "markdown",
      "metadata": {
        "id": "MvNwEObzCdtX"
      },
      "source": [
        "#Cliente"
      ]
    },
    {
      "cell_type": "markdown",
      "metadata": {
        "id": "y0EDwRw_CiU8"
      },
      "source": [
        "##connect(self, s)"
      ]
    },
    {
      "cell_type": "markdown",
      "metadata": {
        "id": "f2ZezxdfDNIl"
      },
      "source": [
        ">Rotina para conectar o cliente ao servidor<br>\n",
        ">É importante notar o loop \"while True\", pois a requisição de conexão pode ser recusada em algum momento."
      ]
    },
    {
      "cell_type": "code",
      "metadata": {
        "id": "SNvHbO_LCqzd"
      },
      "source": [
        "def connect(self, s):\n",
        "  while True:\n",
        "    try:\n",
        "      s.connect(self.endereco)\n",
        "      break\n",
        "    except ConnectionRefusedError:\n",
        "      #print('[Cliente] Tentando conectar...')\n",
        "      time.sleep(2)\n",
        "    except TimeoutError:\n",
        "      if(self.id):\n",
        "        print('\\033[3%dm'%(1+self.id%5)+'[Cliente] Timeout! <id:%d>'%self.id,'\\x1b[0m')\n",
        "      else:\n",
        "        print(\"[Cliente] Timeout! <id: Não conectado>\")"
      ],
      "execution_count": null,
      "outputs": []
    },
    {
      "cell_type": "markdown",
      "metadata": {
        "id": "5P7lRttSC1w0"
      },
      "source": [
        "##def rotina(self):"
      ]
    },
    {
      "cell_type": "markdown",
      "metadata": {
        "id": "P1Afx0PRDm6E"
      },
      "source": [
        ">Rotina principal do cliente<br>\n",
        ">Aqui é onde o usuário pode efetuar suas ações para que o servidor processe.<br>\n",
        ">Existem várias formas de tratar o encerramento de um socket, depende da aplicação e do protocolo abordado. \n",
        ">Neste caso, estamos encerrando o socket assim que o cliente não possui mais nada para fazer no lado do servidor, encerrando sua sessão."
      ]
    },
    {
      "cell_type": "code",
      "metadata": {
        "id": "AFztbVZbC2KN"
      },
      "source": [
        "def rotina(self):\n",
        "  with socket.socket(socket.AF_INET, socket.SOCK_STREAM) as s:\n",
        "    self.connect(s)\n",
        "    while True:\n",
        "      time.sleep(1/velocidade)\n",
        "      mensagem = random.choice(['positivo','negativo'])\n",
        "      s.sendall(bytes(mensagem,self.codificacao))\n",
        "      data = pickle.loads ( s.recv(tamanho_buffer) )\n",
        "\n",
        "      if( not self.id):\n",
        "        self.id = data[0]\n",
        "      \n",
        "      print('\\033[3%dm'%(1+self.id%5)+'[Cliente] recebi', data[1], 'do servidor <id:%d>'%self.id,'\\x1b[0m')\n",
        "      if(random.randint(0,5) == 0):\n",
        "        print('\\033[3%dm'%(1+self.id%5)+'[Cliente] vou desligar... <id:%d>'%self.id,'\\x1b[0m')\n",
        "        break\n",
        "    #s.close()  "
      ],
      "execution_count": null,
      "outputs": []
    },
    {
      "cell_type": "markdown",
      "metadata": {
        "id": "u-AXxK9-EFc1"
      },
      "source": [
        "##class Client()"
      ]
    },
    {
      "cell_type": "code",
      "metadata": {
        "id": "YZcnolo1cdMS"
      },
      "source": [
        "class Client():\n",
        "  def __init__(self, end, cod, tamanho_buffer):\n",
        "    self.endereco = end\n",
        "    self.codificacao = cod\n",
        "    self.tamanho_buffer = tamanho_buffer\n",
        "    self.id = None\n",
        "\n",
        "    #=========================================\n",
        "    #=============== Funções =================\n",
        "    #=========================================\n",
        "\n",
        "    self.connect = connect\n",
        "    self.rotina = rotina\n",
        "\n",
        "  def run(self):\n",
        "    self.rotina(self)"
      ],
      "execution_count": null,
      "outputs": []
    },
    {
      "cell_type": "markdown",
      "metadata": {
        "id": "2MnaHerJEHtl"
      },
      "source": [
        "#Rotina Principal"
      ]
    },
    {
      "cell_type": "code",
      "metadata": {
        "id": "cvovbz2KcfI6"
      },
      "source": [
        "endereco = ('127.0.0.1', 33333)\n",
        "codificacao = 'latin-1'\n",
        "tamanho_buffer = 2048\n",
        "\n",
        "s = Server(endereco,codificacao, 5, tamanho_buffer)\n",
        "\n",
        "p = Process(target=s.run)\n",
        "p.start()\n",
        "\n",
        "while True:\n",
        "  time.sleep(random.randint(1,3)/5/velocidade)\n",
        "  Thread(target = Client(endereco,codificacao, tamanho_buffer).run ).start()\n",
        "  \n",
        "  \n",
        "p.join()"
      ],
      "execution_count": null,
      "outputs": []
    }
  ]
}
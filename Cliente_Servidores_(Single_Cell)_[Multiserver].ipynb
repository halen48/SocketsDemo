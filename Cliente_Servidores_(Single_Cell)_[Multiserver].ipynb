{
  "nbformat": 4,
  "nbformat_minor": 0,
  "metadata": {
    "colab": {
      "name": "Cliente-Servidores (Single Cell) [Multiserver].ipynb",
      "provenance": [],
      "collapsed_sections": [],
      "authorship_tag": "ABX9TyNo9u7N9+xunplbv55n7mwn",
      "include_colab_link": true
    },
    "kernelspec": {
      "display_name": "Python 3",
      "name": "python3"
    },
    "language_info": {
      "name": "python"
    }
  },
  "cells": [
    {
      "cell_type": "markdown",
      "metadata": {
        "id": "view-in-github",
        "colab_type": "text"
      },
      "source": [
        "<a href=\"https://colab.research.google.com/github/halen48/SocketsDemo/blob/main/Cliente_Servidores_(Single_Cell)_%5BMultiserver%5D.ipynb\" target=\"_parent\"><img src=\"https://colab.research.google.com/assets/colab-badge.svg\" alt=\"Open In Colab\"/></a>"
      ]
    },
    {
      "cell_type": "code",
      "metadata": {
        "id": "_QYa_7cfcYKl"
      },
      "source": [
        "import socket\n",
        "from multiprocessing import Process\n",
        "from threading import Thread, Lock\n",
        "import time\n",
        "import random\n",
        "import pickle\n",
        "import json"
      ],
      "execution_count": null,
      "outputs": []
    },
    {
      "cell_type": "code",
      "metadata": {
        "id": "jz7zrlKLuXvL",
        "cellView": "form"
      },
      "source": [
        "velocidade = 1.5 #@param {type:\"slider\", min:0.1, max:2, step:0.1}"
      ],
      "execution_count": null,
      "outputs": []
    },
    {
      "cell_type": "markdown",
      "metadata": {
        "id": "rU0-T9ROca-N"
      },
      "source": [
        "#Server"
      ]
    },
    {
      "cell_type": "markdown",
      "metadata": {
        "id": "B7apegvgDPYK"
      },
      "source": [
        "###Autenticação"
      ]
    },
    {
      "cell_type": "code",
      "metadata": {
        "id": "mSlhdLGpcVmq"
      },
      "source": [
        "class ServerAutenticacao():\n",
        "  def __init__(self, end, cod, max_clients, tamanho_buffer):\n",
        "    self.endereco = end\n",
        "    self.codificacao = cod\n",
        "    self.max_clients = max_clients\n",
        "    self.lista_clientes = {}\n",
        "    self.tamanho_buffer = tamanho_buffer\n",
        "    self.ultimo_id = 0\n",
        "    self.clientes_conectados = []\n",
        "    self.blocos = {}\n",
        "    \n",
        "  def adicionar_cliente(self, conn, addr):\n",
        "\n",
        "    id = self.ultimo_id\n",
        "    self.ultimo_id += 1\n",
        "    thread = Thread(target = self.parse_cliente, args=(conn, addr, id))\n",
        "    self.lista_clientes[id] = ( (conn, thread) )\n",
        "    self.lista_clientes[id][1].start()\n",
        "\n",
        "    print(\"[ServerAutenticacao] %d/%d clientes conectados\"%(len(self.lista_clientes), self.max_clients))\n",
        "\n",
        "    return id\n",
        "  \n",
        "  def checar_conexoes_clientes(self):\n",
        "    while True:\n",
        "      #limpa os clientes que estão desconectados\n",
        "      self.clientes_conectados = list(self.lista_clientes.keys())\n",
        "      for c_id in self.clientes_conectados:\n",
        "        if (not self.lista_clientes[c_id][1].is_alive()):\n",
        "          self.remover_cliente(c_id)\n",
        "      #Caso a lista tenha espaço para mais clientes, a rotina encerra por aqui\n",
        "      if (len(self.lista_clientes) < self.max_clients):\n",
        "          return\n",
        "      #Se tem mais clientes que o servidor pode suportar, aguarda...\n",
        "      print(\"[ServerAutenticacao] Muitos clientes conectados. Aguardando...\")\n",
        "      print(\"[ServerAutenticacao - Debug] IDs Conectados: \", self.clientes_conectados)\n",
        "      time.sleep(0.5/velocidade)\n",
        "\n",
        "  def gerenciador_clientes(self):\n",
        "    with socket.socket(socket.AF_INET, socket.SOCK_STREAM) as s:\n",
        "      while True:\n",
        "        try:\n",
        "          s.bind(self.endereco)\n",
        "          s.listen(self.max_clients)\n",
        "          time.sleep(0.5/velocidade)\n",
        "          break\n",
        "        except Exception as e:\n",
        "          print(e)\n",
        "          print(\"Tentando vincular conexão...\")\n",
        "          continue\n",
        "      \n",
        "      while True:\n",
        "        \n",
        "        self.checar_conexoes_clientes()  \n",
        "\n",
        "        conn, addr = s.accept()\n",
        "        print('[ServerAutenticacao] Foi conectado um cliente em:', addr)\n",
        "        self.adicionar_cliente(conn, addr)\n",
        "      #s.close()\n",
        "  \n",
        "  def remover_cliente(self,index):\n",
        "    print('[ServerAutenticacao] Desconectando o cliente[%d]: %s'%(index,self.lista_clientes[index][0]))\n",
        "    self.lista_clientes[index][0].close()\n",
        "    del self.lista_clientes[index]\n",
        "    print(\"[ServerAutenticacao] %d/%d clientes conectados\"%(len(self.lista_clientes), self.max_clients))\n",
        "    \n",
        "  def connect(self, s, endereco):\n",
        "    while True:\n",
        "      try:\n",
        "        s.connect(endereco)\n",
        "        return\n",
        "      except ConnectionRefusedError:\n",
        "        print('[ServerAutenticacao] Tentando conectar...')\n",
        "        time.sleep(2)\n",
        "      except TimeoutError:\n",
        "        print('\\033[3%dm'%(endereco[1]%5)+'[ServerAutenticacao] Timeout! <IP:%d>'%endereco,'\\x1b[0m')\n",
        "        \n",
        "  \n",
        "    self.usuario = input(\"Nome do usuário: \")\n",
        "  \n",
        "  def novo_ip(self):\n",
        "    return ('127.0.0.1', 33334+len(self.blocos))  #trocar\n",
        "\n",
        "  def parse_cliente(self, conn, addr, id):\n",
        "    while True:\n",
        "      try:\n",
        "        data = conn.recv(self.tamanho_buffer)\n",
        "        print('\\033[3%dm'%(1+id%5)+'[ServerAutenticacao] recebi', repr(data), 'do cliente <id: %d>'%id,'\\x1b[0m')\n",
        "        if not data:\n",
        "            break\n",
        "        \n",
        "        time.sleep(0.5/velocidade)\n",
        "        conn.sendall(pickle.dumps( (id) )) #envia o ID para o cliente conectado e faz ele esperar a informação chegar\n",
        "\n",
        "\n",
        "        time.sleep(0.5/velocidade)\n",
        "        #caso não exista o proximo servidor, cria\n",
        "        endereco = self.novo_ip()\n",
        "        s = ServerInterno(endereco, self.codificacao, self.tamanho_buffer, self.endereco, len(self.blocos))\n",
        "        p = Process(target=s.run)\n",
        "        p.start()\n",
        "        \n",
        "        #envia bloco para o proximo servidor\n",
        "        with socket.socket(socket.AF_INET, socket.SOCK_STREAM) as bloco_conn:\n",
        "          while True:\n",
        "            try:\n",
        "              data = pickle.loads(data)\n",
        "              data = pickle.dumps( (data) )\n",
        "              self.connect(bloco_conn, endereco)\n",
        "              bloco_conn.sendall( data )\n",
        "              #recebe o hash do bloco\n",
        "              self.blocos[\"%s:%d\"%endereco] = pickle.loads(bloco_conn.recv(self.tamanho_buffer))\n",
        "              \n",
        "              break\n",
        "            except Exception as e:\n",
        "              print(\"[ServerAutenticacao]\", e)\n",
        "              time.sleep(0.5/velocidade)\n",
        "        \n",
        "        print(\"[ServerAutenticacao] Servidores conectados:\")\n",
        "        print(json.dumps(self.blocos,indent=4))\n",
        "        #avisa pro cliente que está ok\n",
        "        conn.sendall( pickle.dumps(\"ok\") )\n",
        "\n",
        "      except Exception as e:\n",
        "        print(\"[ServerAutenticacao]\", e)\n",
        "        time.sleep(0.5/velocidade)\n",
        "        continue\n",
        "    \n",
        "  \n",
        "  def run(self):\n",
        "    self.gerenciador_clientes()\n"
      ],
      "execution_count": null,
      "outputs": []
    },
    {
      "cell_type": "markdown",
      "metadata": {
        "id": "0TrdLXVADR7j"
      },
      "source": [
        "###Servidores Internos"
      ]
    },
    {
      "cell_type": "code",
      "metadata": {
        "id": "FQlhG6EjDI5z"
      },
      "source": [
        "class ServerInterno():\n",
        "  def __init__(self, end, cod, tamanho_buffer, endereco_base, id):\n",
        "    self.endereco = end\n",
        "    self.codificacao = cod\n",
        "    self.tamanho_buffer = tamanho_buffer\n",
        "    self.endereco_mestre = endereco_base\n",
        "    self.dado = None\n",
        "\n",
        "  def parse_chain(self,conn, addr):\n",
        "    while True:\n",
        "      try:\n",
        "        data = conn.recv(self.tamanho_buffer)\n",
        "        print('\\033[3%dm'%(1+self.endereco[1]%5)+'[ServerInterno] recebi', repr(data), '\\x1b[0m')\n",
        "        if not data:\n",
        "            break\n",
        "\n",
        "        data = pickle.loads( data )\n",
        "\n",
        "        self.dado = data\n",
        "\n",
        "        time.sleep(0.5/velocidade)\n",
        "        conn.sendall(pickle.dumps( \"online\" )) #avisa que está online\n",
        "\n",
        "      except Exception as e:\n",
        "        print(\"[ServerInterno]\", e)\n",
        "        time.sleep(0.5/velocidade)\n",
        "        continue\n",
        "    \n",
        "  \n",
        "  def run(self):\n",
        "    with socket.socket(socket.AF_INET, socket.SOCK_STREAM) as s:\n",
        "      while True:\n",
        "        try:\n",
        "          s.bind(self.endereco)\n",
        "          s.listen(1) #Só recebe informação do mestre\n",
        "          time.sleep(0.5/velocidade)\n",
        "          break\n",
        "        except Exception as e:\n",
        "          print(e)\n",
        "          print(\"Tentando vincular conexão...\")\n",
        "          continue\n",
        "      \n",
        "      conn, addr = s.accept()\n",
        "      print('[ServerInterno] Novo bloco criado. conexão:', addr)\n",
        "      self.parse_chain(conn, addr)\n",
        "\n",
        "      \n"
      ],
      "execution_count": null,
      "outputs": []
    },
    {
      "cell_type": "markdown",
      "metadata": {
        "id": "iWnCLldi3W6U"
      },
      "source": [
        "#Client"
      ]
    },
    {
      "cell_type": "code",
      "metadata": {
        "id": "YZcnolo1cdMS"
      },
      "source": [
        "class Client():\n",
        "  def __init__(self, end, cod, tamanho_buffer):\n",
        "    self.endereco = end\n",
        "    self.codificacao = cod\n",
        "    self.tamanho_buffer = tamanho_buffer\n",
        "    self.id = None\n",
        "    self.usuario = None\n",
        "\n",
        "  def connect(self, s):\n",
        "    while True:\n",
        "      try:\n",
        "        s.connect(self.endereco)\n",
        "        break\n",
        "      except ConnectionRefusedError:\n",
        "        #print('[Cliente] Tentando conectar...')\n",
        "        time.sleep(2)\n",
        "      except TimeoutError:\n",
        "        if(self.id):\n",
        "          print('\\033[3%dm'%(1+self.id%5)+'[Cliente] Timeout! <id:%d>'%self.id,'\\x1b[0m')\n",
        "        else:\n",
        "          print(\"[Cliente] Timeout! <id: Não conectado>\")\n",
        "  \n",
        "    self.usuario = input(\"Nome do usuário: \")\n",
        "\n",
        "\n",
        "  def rotina(self):\n",
        "  \n",
        "    with socket.socket(socket.AF_INET, socket.SOCK_STREAM) as s:\n",
        "      self.connect(s)\n",
        "      while True:\n",
        "        time.sleep(1/velocidade)\n",
        "        \n",
        "        msg = input(\"Mensagem: \")\n",
        "        data = {'Mensagem':msg,'Usuario':self.usuario}\n",
        "        #Envia a mensagem criada\n",
        "        print(\"[Cliente] Enviando\", json.dumps(data,indent=4))\n",
        "        s.sendall( pickle.dumps( data ) )\n",
        "        \n",
        "        #espera receber um ID do servidor\n",
        "        data = pickle.loads ( s.recv(self.tamanho_buffer) )\n",
        "        if( not self.id):\n",
        "          self.id = data\n",
        "        print('\\033[3%dm'%(1+self.id%5)+'[Cliente] Mensagem enviada <id:%d>'%self.id,'\\x1b[0m')\n",
        "        \n",
        "        print('\\033[3%dm'%(1+self.id%5)+'[Cliente] Aguardando resposta do servidor... <id:%d>'%self.id,'\\x1b[0m')\n",
        "        data = pickle.loads ( s.recv(self.tamanho_buffer) )\n",
        "        if(data == \"ok\"):\n",
        "          print('\\033[3%dm'%(1+self.id%5)+'[Cliente] Informação processada pelo servidor! <id:%d>'%self.id,'\\x1b[0m')\n",
        "\n",
        "\n",
        "  \n",
        "  def run(self):\n",
        "    self.rotina()"
      ],
      "execution_count": null,
      "outputs": []
    },
    {
      "cell_type": "markdown",
      "metadata": {
        "id": "BIUk64wH3bwq"
      },
      "source": [
        "#Rotina"
      ]
    },
    {
      "cell_type": "code",
      "metadata": {
        "id": "cvovbz2KcfI6"
      },
      "source": [
        "endereco = ('127.0.0.1', 33333)\n",
        "codificacao = 'latin-1'\n",
        "tamanho_buffer = 2048\n",
        "\n",
        "s = ServerAutenticacao(endereco,codificacao, 5, tamanho_buffer)\n",
        "\n",
        "p = Process(target=s.run)\n",
        "p.start()\n",
        "\n",
        "Thread(target = Client(endereco,codificacao, tamanho_buffer).run ).start()\n",
        "  \n",
        "p.join()"
      ],
      "execution_count": null,
      "outputs": []
    }
  ]
}
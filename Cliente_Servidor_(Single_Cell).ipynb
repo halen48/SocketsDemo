{
  "nbformat": 4,
  "nbformat_minor": 0,
  "metadata": {
    "colab": {
      "name": "Cliente-Servidor (Single Cell).ipynb",
      "provenance": [],
      "collapsed_sections": [],
      "authorship_tag": "ABX9TyNJ9PQaulHecypLHeGNaz7a",
      "include_colab_link": true
    },
    "kernelspec": {
      "display_name": "Python 3",
      "name": "python3"
    },
    "language_info": {
      "name": "python"
    }
  },
  "cells": [
    {
      "cell_type": "markdown",
      "metadata": {
        "id": "view-in-github",
        "colab_type": "text"
      },
      "source": [
        "<a href=\"https://colab.research.google.com/github/halen48/SocketsDemo/blob/main/Cliente_Servidor_(Single_Cell).ipynb\" target=\"_parent\"><img src=\"https://colab.research.google.com/assets/colab-badge.svg\" alt=\"Open In Colab\"/></a>"
      ]
    },
    {
      "cell_type": "code",
      "metadata": {
        "id": "_QYa_7cfcYKl"
      },
      "source": [
        "import socket\n",
        "from multiprocessing import Process\n",
        "from threading import Thread, Lock\n",
        "import time\n",
        "import random\n",
        "import pickle"
      ],
      "execution_count": null,
      "outputs": []
    },
    {
      "cell_type": "code",
      "metadata": {
        "cellView": "form",
        "id": "jz7zrlKLuXvL"
      },
      "source": [
        "velocidade = 1.5 #@param {type:\"slider\", min:0.1, max:2, step:0.1}"
      ],
      "execution_count": null,
      "outputs": []
    },
    {
      "cell_type": "markdown",
      "metadata": {
        "id": "rU0-T9ROca-N"
      },
      "source": [
        "<a href=\"https://docs.python.org/dev/library/socket.html#socket.socket.listen\"> Documentação de Socket</a>"
      ]
    },
    {
      "cell_type": "code",
      "metadata": {
        "id": "mSlhdLGpcVmq"
      },
      "source": [
        "class Server():\n",
        "  def __init__(self, end, cod, max_clients, tamanho_buffer):\n",
        "    self.endereco = end\n",
        "    self.codificacao = cod\n",
        "    self.max_clients = max_clients\n",
        "    self.lista_clientes = {}\n",
        "    self.mutex = Lock()\n",
        "    self.tamanho_buffer = tamanho_buffer\n",
        "    self.ultimo_id = 0\n",
        "    self.clientes_conectados = []\n",
        "\n",
        "  def adicionar_cliente(self, conn, addr):\n",
        "\n",
        "    id = self.ultimo_id\n",
        "    self.ultimo_id += 1\n",
        "    thread = Thread(target = self.parse_cliente, args=(conn, addr, id))\n",
        "    self.lista_clientes[id] = ( (conn, thread) )\n",
        "    self.lista_clientes[id][1].start()\n",
        "\n",
        "    print(\"[Servidor] %d/%d clientes conectados\"%(len(self.lista_clientes), self.max_clients))\n",
        "\n",
        "    return id\n",
        "  \n",
        "  def checar_conexoes_clientes(self):\n",
        "    while True:\n",
        "      #limpa os clientes que estão desconectados\n",
        "      self.clientes_conectados = list(self.lista_clientes.keys())\n",
        "      for c_id in self.clientes_conectados:\n",
        "        if (not self.lista_clientes[c_id][1].is_alive()):\n",
        "          self.remover_cliente(c_id)\n",
        "      #Caso a lista tenha espaço para mais clientes, a rotina encerra por aqui\n",
        "      if (len(self.lista_clientes) < self.max_clients):\n",
        "          return\n",
        "      #Se tem mais clientes que o servidor pode suportar, aguarda...\n",
        "      print(\"[Servidor] Muitos clientes conectados. Aguardando...\")\n",
        "      print(\"[Servidor - Debug] IDs Conectados: \", self.clientes_conectados)\n",
        "      time.sleep(0.5/velocidade)\n",
        "\n",
        "  def gerenciador_clientes(self):\n",
        "    with socket.socket(socket.AF_INET, socket.SOCK_STREAM) as s:\n",
        "      while True:\n",
        "        try:\n",
        "          s.bind(self.endereco)\n",
        "          s.listen(self.max_clients)\n",
        "          time.sleep(0.5/velocidade)\n",
        "          break\n",
        "        except Exception as e:\n",
        "          print(e)\n",
        "          print(\"Tentando vincular conexão...\")\n",
        "          continue\n",
        "      \n",
        "      while True:\n",
        "        \n",
        "        self.checar_conexoes_clientes()  \n",
        "\n",
        "        conn, addr = s.accept()\n",
        "        print('[Servidor] Foi conectado um cliente em:', addr)\n",
        "        self.adicionar_cliente(conn, addr)\n",
        "      #s.close()\n",
        "  \n",
        "  def remover_cliente(self,index):\n",
        "    print('[Servidor] Desconectando o cliente[%d]: %s'%(index,self.lista_clientes[index][0]))\n",
        "    self.lista_clientes[index][0].close()\n",
        "    del self.lista_clientes[index]\n",
        "    print(\"[Servidor] %d/%d clientes conectados\"%(len(self.lista_clientes), self.max_clients))\n",
        "    \n",
        "\n",
        "  def parse_cliente(self,conn, addr, id):\n",
        "    while True:\n",
        "      try:\n",
        "\n",
        "        data = conn.recv(tamanho_buffer)\n",
        "        print('\\033[3%dm'%(1+id%5)+'[Servidor] recebi', repr(data), 'do cliente <id: %d>'%id,'\\x1b[0m')\n",
        "        if not data:\n",
        "            break\n",
        "        \n",
        "        data = data.decode(self.codificacao)\n",
        "\n",
        "        valor = random.randint(0,50)\n",
        "\n",
        "        if(data == 'negativo'):\n",
        "          valor *= -1\n",
        "        \n",
        "        data = pickle.dumps( (id,valor) )\n",
        "        time.sleep(0.5/velocidade)\n",
        "        conn.sendall(data)\n",
        "      except Exception as e:\n",
        "        print(\"[Servidor]\", e)\n",
        "        continue\n",
        "    \n",
        "  \n",
        "  def run(self):\n",
        "    self.gerenciador_clientes()\n"
      ],
      "execution_count": null,
      "outputs": []
    },
    {
      "cell_type": "code",
      "metadata": {
        "id": "YZcnolo1cdMS"
      },
      "source": [
        "class Client():\n",
        "  def __init__(self, end, cod, tamanho_buffer):\n",
        "    self.endereco = end\n",
        "    self.codificacao = cod\n",
        "    self.tamanho_buffer = tamanho_buffer\n",
        "    self.id = None\n",
        "\n",
        "  def connect(self, s):\n",
        "    while True:\n",
        "      try:\n",
        "        s.connect(self.endereco)\n",
        "        break\n",
        "      except ConnectionRefusedError:\n",
        "        #print('[Cliente] Tentando conectar...')\n",
        "        time.sleep(2)\n",
        "      except TimeoutError:\n",
        "        if(self.id):\n",
        "          print('\\033[3%dm'%(1+self.id%5)+'[Cliente] Timeout! <id:%d>'%self.id,'\\x1b[0m')\n",
        "        else:\n",
        "          print(\"[Cliente] Timeout! <id: Não conectado>\")\n",
        "\n",
        "  def rotina(self):\n",
        "  \n",
        "    with socket.socket(socket.AF_INET, socket.SOCK_STREAM) as s:\n",
        "      self.connect(s)\n",
        "      while True:\n",
        "        time.sleep(1/velocidade)\n",
        "        mensagem = random.choice(['positivo','negativo'])\n",
        "        s.sendall(bytes(mensagem,self.codificacao))\n",
        "        data = pickle.loads ( s.recv(tamanho_buffer) )\n",
        "\n",
        "        if( not self.id):\n",
        "          self.id = data[0]\n",
        "        \n",
        "        print('\\033[3%dm'%(1+self.id%5)+'[Cliente] recebi', data[1], 'do servidor <id:%d>'%self.id,'\\x1b[0m')\n",
        "        if(random.randint(0,5) == 0):\n",
        "          print('\\033[3%dm'%(1+self.id%5)+'[Cliente] vou desligar... <id:%d>'%self.id,'\\x1b[0m')\n",
        "          break\n",
        "        #s.close()\n",
        "  \n",
        "  def run(self):\n",
        "    self.rotina()"
      ],
      "execution_count": null,
      "outputs": []
    },
    {
      "cell_type": "code",
      "metadata": {
        "id": "cvovbz2KcfI6"
      },
      "source": [
        "endereco = ('127.0.0.1', 33333)\n",
        "codificacao = 'latin-1'\n",
        "tamanho_buffer = 2048\n",
        "\n",
        "s = Server(endereco,codificacao, 5, tamanho_buffer)\n",
        "\n",
        "p = Process(target=s.run)\n",
        "p.start()\n",
        "\n",
        "while True:\n",
        "  time.sleep(random.randint(1,3)/5/velocidade)\n",
        "  Thread(target = Client(endereco,codificacao, tamanho_buffer).run ).start()\n",
        "  \n",
        "  \n",
        "p.join()"
      ],
      "execution_count": null,
      "outputs": []
    }
  ]
}